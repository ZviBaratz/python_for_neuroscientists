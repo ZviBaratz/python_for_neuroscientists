{
 "cells": [
  {
   "cell_type": "markdown",
   "metadata": {},
   "source": [
    "# Class 6: Advanced `pandas`"
   ]
  },
  {
   "cell_type": "markdown",
   "metadata": {},
   "source": [
    "Currently, `pandas`' `Series` and `DataFrame` might seem to us as no more than tables with complicated indexing methods. In this lesson, we will learn more about what makes `pandas` so powerful and how we can use it to write efficient and readable code."
   ]
  },
  {
   "cell_type": "markdown",
   "metadata": {},
   "source": [
    "````{note}\n",
    "Some of the features described below only work with pandas >= 1.0.0. Make sure you have the latest pandas installation when running this notebook. To check the version of your pandas (or any other package), import it and print its `__version__` attribute:\n",
    "```python\n",
    ">>> import pandas as pd\n",
    ">>> print(pd.__version__)\n",
    "'1.2.0'\n",
    "```\n",
    "````"
   ]
  },
  {
   "cell_type": "markdown",
   "metadata": {},
   "source": [
    "## Missing Data"
   ]
  },
  {
   "cell_type": "markdown",
   "metadata": {},
   "source": [
    "<div style=\"text-align:center\"><img src=\"https://static.wikia.nocookie.net/lostpedia/images/1/16/Lost-season1.jpg/revision/latest/scale-to-width-down/300?cb=20070303221754\" /></div>"
   ]
  },
  {
   "cell_type": "markdown",
   "metadata": {},
   "source": [
    "The last question in the previous class pointed us to [working with missing data](https://pandas.pydata.org/pandas-docs/stable/user_guide/missing_data.html). But how and why does missing data occur?\n",
    "\n",
    "One option is pandas' index alignment, the property that makes sure that each value will have the same index throughout the entire computation process."
   ]
  },
  {
   "cell_type": "code",
   "execution_count": 2,
   "metadata": {},
   "outputs": [
    {
     "data": {
      "text/plain": [
       "0    NaN\n",
       "1    5.0\n",
       "2    9.0\n",
       "3    NaN\n",
       "dtype: float64"
      ]
     },
     "execution_count": 2,
     "metadata": {},
     "output_type": "execute_result"
    }
   ],
   "source": [
    "import pandas as pd\n",
    "import numpy as np\n",
    "\n",
    "\n",
    "A = pd.Series([2, 4, 6], index=[0, 1, 2])\n",
    "B = pd.Series([1, 3, 5], index=[1, 2, 3])\n",
    "A + B"
   ]
  },
  {
   "cell_type": "markdown",
   "metadata": {},
   "source": [
    "The NaNs we have are what we call missing data, and this is how they are represented in pandas. We'll discuss that in more detail in a few moments.\n",
    "\n",
    "The same thing occurs with DataFrames:"
   ]
  },
  {
   "cell_type": "code",
   "execution_count": 3,
   "metadata": {},
   "outputs": [
    {
     "data": {
      "text/html": [
       "<div>\n",
       "<style scoped>\n",
       "    .dataframe tbody tr th:only-of-type {\n",
       "        vertical-align: middle;\n",
       "    }\n",
       "\n",
       "    .dataframe tbody tr th {\n",
       "        vertical-align: top;\n",
       "    }\n",
       "\n",
       "    .dataframe thead th {\n",
       "        text-align: right;\n",
       "    }\n",
       "</style>\n",
       "<table border=\"1\" class=\"dataframe\">\n",
       "  <thead>\n",
       "    <tr style=\"text-align: right;\">\n",
       "      <th></th>\n",
       "      <th>A</th>\n",
       "      <th>B</th>\n",
       "    </tr>\n",
       "  </thead>\n",
       "  <tbody>\n",
       "    <tr>\n",
       "      <th>0</th>\n",
       "      <td>16</td>\n",
       "      <td>6</td>\n",
       "    </tr>\n",
       "    <tr>\n",
       "      <th>1</th>\n",
       "      <td>18</td>\n",
       "      <td>15</td>\n",
       "    </tr>\n",
       "  </tbody>\n",
       "</table>\n",
       "</div>"
      ],
      "text/plain": [
       "    A   B\n",
       "0  16   6\n",
       "1  18  15"
      ]
     },
     "execution_count": 3,
     "metadata": {},
     "output_type": "execute_result"
    }
   ],
   "source": [
    "A = pd.DataFrame(np.random.randint(0, 20, (2, 2)),\n",
    "                 columns=list('AB'))\n",
    "A"
   ]
  },
  {
   "cell_type": "code",
   "execution_count": 4,
   "metadata": {},
   "outputs": [
    {
     "data": {
      "text/html": [
       "<div>\n",
       "<style scoped>\n",
       "    .dataframe tbody tr th:only-of-type {\n",
       "        vertical-align: middle;\n",
       "    }\n",
       "\n",
       "    .dataframe tbody tr th {\n",
       "        vertical-align: top;\n",
       "    }\n",
       "\n",
       "    .dataframe thead th {\n",
       "        text-align: right;\n",
       "    }\n",
       "</style>\n",
       "<table border=\"1\" class=\"dataframe\">\n",
       "  <thead>\n",
       "    <tr style=\"text-align: right;\">\n",
       "      <th></th>\n",
       "      <th>B</th>\n",
       "      <th>A</th>\n",
       "      <th>C</th>\n",
       "    </tr>\n",
       "  </thead>\n",
       "  <tbody>\n",
       "    <tr>\n",
       "      <th>0</th>\n",
       "      <td>2</td>\n",
       "      <td>2</td>\n",
       "      <td>7</td>\n",
       "    </tr>\n",
       "    <tr>\n",
       "      <th>1</th>\n",
       "      <td>1</td>\n",
       "      <td>0</td>\n",
       "      <td>3</td>\n",
       "    </tr>\n",
       "    <tr>\n",
       "      <th>2</th>\n",
       "      <td>5</td>\n",
       "      <td>4</td>\n",
       "      <td>8</td>\n",
       "    </tr>\n",
       "  </tbody>\n",
       "</table>\n",
       "</div>"
      ],
      "text/plain": [
       "   B  A  C\n",
       "0  2  2  7\n",
       "1  1  0  3\n",
       "2  5  4  8"
      ]
     },
     "execution_count": 4,
     "metadata": {},
     "output_type": "execute_result"
    }
   ],
   "source": [
    "B = pd.DataFrame(np.random.randint(0, 10, (3, 3)),\n",
    "                 columns=list('BAC'))\n",
    "B"
   ]
  },
  {
   "cell_type": "code",
   "execution_count": 5,
   "metadata": {},
   "outputs": [
    {
     "name": "stdout",
     "output_type": "stream",
     "text": [
      "      A     B   C\n",
      "0  18.0   8.0 NaN\n",
      "1  18.0  16.0 NaN\n",
      "2   NaN   NaN NaN\n",
      "\n",
      "Returned dtypes:\n",
      "A    float64\n",
      "B    float64\n",
      "C    float64\n",
      "dtype: object\n"
     ]
    }
   ],
   "source": [
    "new = A + B\n",
    "print(new)\n",
    "print(f\"\\nReturned dtypes:\\n{new.dtypes}\")"
   ]
  },
  {
   "cell_type": "markdown",
   "metadata": {},
   "source": [
    "```{note}\n",
    "Note how `new.dtypes` itself returns a `Series` of dtypes, with it's own `object` dtype.\n",
    "```"
   ]
  },
  {
   "cell_type": "markdown",
   "metadata": {},
   "source": [
    "The DF's shape is the shape of the larger DF, and the \"extra\" row (index 2) was filled with NaNs. Since we have NaNs, the data type of the column is implicitly converted to a floating point type. To have integer DFs with NaNs, we have to explicitly say we want them available. More on that later."
   ]
  },
  {
   "cell_type": "markdown",
   "metadata": {},
   "source": [
    "Another way to introduce missing data is through reindexing. If we \"resample\" our data we can achieve the following:"
   ]
  },
  {
   "cell_type": "code",
   "execution_count": 6,
   "metadata": {},
   "outputs": [
    {
     "data": {
      "text/html": [
       "<div>\n",
       "<style scoped>\n",
       "    .dataframe tbody tr th:only-of-type {\n",
       "        vertical-align: middle;\n",
       "    }\n",
       "\n",
       "    .dataframe tbody tr th {\n",
       "        vertical-align: top;\n",
       "    }\n",
       "\n",
       "    .dataframe thead th {\n",
       "        text-align: right;\n",
       "    }\n",
       "</style>\n",
       "<table border=\"1\" class=\"dataframe\">\n",
       "  <thead>\n",
       "    <tr style=\"text-align: right;\">\n",
       "      <th></th>\n",
       "      <th>one</th>\n",
       "      <th>two</th>\n",
       "      <th>three</th>\n",
       "    </tr>\n",
       "  </thead>\n",
       "  <tbody>\n",
       "    <tr>\n",
       "      <th>a</th>\n",
       "      <td>-0.961624</td>\n",
       "      <td>0.873462</td>\n",
       "      <td>-0.642091</td>\n",
       "    </tr>\n",
       "    <tr>\n",
       "      <th>c</th>\n",
       "      <td>-0.768224</td>\n",
       "      <td>-0.917506</td>\n",
       "      <td>0.308217</td>\n",
       "    </tr>\n",
       "    <tr>\n",
       "      <th>e</th>\n",
       "      <td>-0.393376</td>\n",
       "      <td>0.440355</td>\n",
       "      <td>1.930316</td>\n",
       "    </tr>\n",
       "    <tr>\n",
       "      <th>f</th>\n",
       "      <td>-0.691484</td>\n",
       "      <td>1.296819</td>\n",
       "      <td>-0.057658</td>\n",
       "    </tr>\n",
       "    <tr>\n",
       "      <th>h</th>\n",
       "      <td>-0.782572</td>\n",
       "      <td>0.729554</td>\n",
       "      <td>-0.539351</td>\n",
       "    </tr>\n",
       "  </tbody>\n",
       "</table>\n",
       "</div>"
      ],
      "text/plain": [
       "        one       two     three\n",
       "a -0.961624  0.873462 -0.642091\n",
       "c -0.768224 -0.917506  0.308217\n",
       "e -0.393376  0.440355  1.930316\n",
       "f -0.691484  1.296819 -0.057658\n",
       "h -0.782572  0.729554 -0.539351"
      ]
     },
     "execution_count": 6,
     "metadata": {},
     "output_type": "execute_result"
    }
   ],
   "source": [
    "df = pd.DataFrame(np.random.randn(5, 3), index=['a', 'c', 'e', 'f', 'h'],\n",
    "                  columns=['one', 'two', 'three'])\n",
    "df"
   ]
  },
  {
   "cell_type": "code",
   "execution_count": 7,
   "metadata": {},
   "outputs": [
    {
     "data": {
      "text/html": [
       "<div>\n",
       "<style scoped>\n",
       "    .dataframe tbody tr th:only-of-type {\n",
       "        vertical-align: middle;\n",
       "    }\n",
       "\n",
       "    .dataframe tbody tr th {\n",
       "        vertical-align: top;\n",
       "    }\n",
       "\n",
       "    .dataframe thead th {\n",
       "        text-align: right;\n",
       "    }\n",
       "</style>\n",
       "<table border=\"1\" class=\"dataframe\">\n",
       "  <thead>\n",
       "    <tr style=\"text-align: right;\">\n",
       "      <th></th>\n",
       "      <th>one</th>\n",
       "      <th>two</th>\n",
       "      <th>three</th>\n",
       "    </tr>\n",
       "  </thead>\n",
       "  <tbody>\n",
       "    <tr>\n",
       "      <th>a</th>\n",
       "      <td>-0.961624</td>\n",
       "      <td>0.873462</td>\n",
       "      <td>-0.642091</td>\n",
       "    </tr>\n",
       "    <tr>\n",
       "      <th>b</th>\n",
       "      <td>NaN</td>\n",
       "      <td>NaN</td>\n",
       "      <td>NaN</td>\n",
       "    </tr>\n",
       "    <tr>\n",
       "      <th>c</th>\n",
       "      <td>-0.768224</td>\n",
       "      <td>-0.917506</td>\n",
       "      <td>0.308217</td>\n",
       "    </tr>\n",
       "    <tr>\n",
       "      <th>d</th>\n",
       "      <td>NaN</td>\n",
       "      <td>NaN</td>\n",
       "      <td>NaN</td>\n",
       "    </tr>\n",
       "    <tr>\n",
       "      <th>e</th>\n",
       "      <td>-0.393376</td>\n",
       "      <td>0.440355</td>\n",
       "      <td>1.930316</td>\n",
       "    </tr>\n",
       "    <tr>\n",
       "      <th>f</th>\n",
       "      <td>-0.691484</td>\n",
       "      <td>1.296819</td>\n",
       "      <td>-0.057658</td>\n",
       "    </tr>\n",
       "    <tr>\n",
       "      <th>g</th>\n",
       "      <td>NaN</td>\n",
       "      <td>NaN</td>\n",
       "      <td>NaN</td>\n",
       "    </tr>\n",
       "    <tr>\n",
       "      <th>h</th>\n",
       "      <td>-0.782572</td>\n",
       "      <td>0.729554</td>\n",
       "      <td>-0.539351</td>\n",
       "    </tr>\n",
       "  </tbody>\n",
       "</table>\n",
       "</div>"
      ],
      "text/plain": [
       "        one       two     three\n",
       "a -0.961624  0.873462 -0.642091\n",
       "b       NaN       NaN       NaN\n",
       "c -0.768224 -0.917506  0.308217\n",
       "d       NaN       NaN       NaN\n",
       "e -0.393376  0.440355  1.930316\n",
       "f -0.691484  1.296819 -0.057658\n",
       "g       NaN       NaN       NaN\n",
       "h -0.782572  0.729554 -0.539351"
      ]
     },
     "execution_count": 7,
     "metadata": {},
     "output_type": "execute_result"
    }
   ],
   "source": [
    "df2 = df.reindex(['a', 'b', 'c', 'd', 'e', 'f', 'g', 'h'])\n",
    "df2"
   ]
  },
  {
   "cell_type": "markdown",
   "metadata": {},
   "source": [
    "As we mentioned, pandas is oriented towards handling missing data. In general one finds two approaches that one can take - either create a masking array around the DF, in which `False` values represent invalid entries, or create a _sentinel_ value that represents missing data, like -99999 or NaN.\n",
    "\n",
    "These two approaches have their downsides - a boolean masks requires more memory, and perhaps longer computation times. The sentinel value might lead to use of inefficient data types and slow down computation as well.\n",
    "\n",
    "Due to its reliance on numpy, pandas chose the path of sentinel values, with either `None` or NaN as the value."
   ]
  },
  {
   "cell_type": "markdown",
   "metadata": {},
   "source": [
    "### The `None` object"
   ]
  },
  {
   "cell_type": "markdown",
   "metadata": {},
   "source": [
    "`None` is the standard null value in Python, and is used extensively in normal usage of the language. For example, functions that don't have a `return` statement, implicitly return `None`. While `None` can be used as a missing data type, it's probably not the best choice."
   ]
  },
  {
   "cell_type": "code",
   "execution_count": 8,
   "metadata": {},
   "outputs": [
    {
     "data": {
      "text/plain": [
       "array([1, None, 3, 4], dtype=object)"
      ]
     },
     "execution_count": 8,
     "metadata": {},
     "output_type": "execute_result"
    }
   ],
   "source": [
    "vals1 = np.array([1, None, 3, 4])\n",
    "vals1"
   ]
  },
  {
   "cell_type": "markdown",
   "metadata": {},
   "source": [
    "The `dtype` is `object`, because the best common type of `int`s and a `None` is a Python `object`. This slows down computation time on these arrays:"
   ]
  },
  {
   "cell_type": "code",
   "execution_count": 9,
   "metadata": {
    "scrolled": false
   },
   "outputs": [
    {
     "name": "stdout",
     "output_type": "stream",
     "text": [
      "dtype = object\n",
      "49.7 ms ± 1.09 ms per loop (mean ± std. dev. of 7 runs, 10 loops each)\n",
      "\n",
      "dtype = int\n",
      "1.33 ms ± 38.6 µs per loop (mean ± std. dev. of 7 runs, 1000 loops each)\n",
      "\n"
     ]
    }
   ],
   "source": [
    "for dtype in ['object', 'int']:\n",
    "    print(\"dtype =\", dtype)\n",
    "    %timeit np.arange(1E6, dtype=dtype).sum()\n",
    "    print()"
   ]
  },
  {
   "cell_type": "markdown",
   "metadata": {},
   "source": [
    "If you recall from a couple of lessons ago, the \"object\" timings are very similar to those of standard lists, since indeed object arrays are pretty much identical to lists."
   ]
  },
  {
   "cell_type": "markdown",
   "metadata": {},
   "source": [
    "Another thing we can't do is aggregation:"
   ]
  },
  {
   "cell_type": "code",
   "execution_count": 10,
   "metadata": {},
   "outputs": [
    {
     "ename": "TypeError",
     "evalue": "unsupported operand type(s) for +: 'int' and 'NoneType'",
     "output_type": "error",
     "traceback": [
      "\u001b[0;31m---------------------------------------------------------------------------\u001b[0m",
      "\u001b[0;31mTypeError\u001b[0m                                 Traceback (most recent call last)",
      "\u001b[0;32m<ipython-input-10-30a3fc8c6726>\u001b[0m in \u001b[0;36m<module>\u001b[0;34m\u001b[0m\n\u001b[0;32m----> 1\u001b[0;31m \u001b[0mvals1\u001b[0m\u001b[0;34m.\u001b[0m\u001b[0msum\u001b[0m\u001b[0;34m(\u001b[0m\u001b[0;34m)\u001b[0m\u001b[0;34m\u001b[0m\u001b[0;34m\u001b[0m\u001b[0m\n\u001b[0m",
      "\u001b[0;32m~/Projects/ml_for_neuro/venv/lib/python3.8/site-packages/numpy/core/_methods.py\u001b[0m in \u001b[0;36m_sum\u001b[0;34m(a, axis, dtype, out, keepdims, initial, where)\u001b[0m\n\u001b[1;32m     45\u001b[0m def _sum(a, axis=None, dtype=None, out=None, keepdims=False,\n\u001b[1;32m     46\u001b[0m          initial=_NoValue, where=True):\n\u001b[0;32m---> 47\u001b[0;31m     \u001b[0;32mreturn\u001b[0m \u001b[0mumr_sum\u001b[0m\u001b[0;34m(\u001b[0m\u001b[0ma\u001b[0m\u001b[0;34m,\u001b[0m \u001b[0maxis\u001b[0m\u001b[0;34m,\u001b[0m \u001b[0mdtype\u001b[0m\u001b[0;34m,\u001b[0m \u001b[0mout\u001b[0m\u001b[0;34m,\u001b[0m \u001b[0mkeepdims\u001b[0m\u001b[0;34m,\u001b[0m \u001b[0minitial\u001b[0m\u001b[0;34m,\u001b[0m \u001b[0mwhere\u001b[0m\u001b[0;34m)\u001b[0m\u001b[0;34m\u001b[0m\u001b[0;34m\u001b[0m\u001b[0m\n\u001b[0m\u001b[1;32m     48\u001b[0m \u001b[0;34m\u001b[0m\u001b[0m\n\u001b[1;32m     49\u001b[0m def _prod(a, axis=None, dtype=None, out=None, keepdims=False,\n",
      "\u001b[0;31mTypeError\u001b[0m: unsupported operand type(s) for +: 'int' and 'NoneType'"
     ]
    }
   ],
   "source": [
    "vals1.sum()"
   ]
  },
  {
   "cell_type": "markdown",
   "metadata": {},
   "source": [
    "### The `NaN` value"
   ]
  },
  {
   "cell_type": "markdown",
   "metadata": {},
   "source": [
    "`NaN` is a special floating-point value recognized by all programming languages that conform to the IEEE standard (which means most of them). As we mentioned before, it forces the entire array to have a floating point type:"
   ]
  },
  {
   "cell_type": "code",
   "execution_count": null,
   "metadata": {},
   "outputs": [],
   "source": [
    "vals2 = np.array([1, np.nan, 3, 4])\n",
    "vals2.dtype"
   ]
  },
  {
   "cell_type": "markdown",
   "metadata": {},
   "source": [
    "Creating floating point arrays is very fast, so performance isn't hindered. NaN is sometimes described as a \"data virus\", since it infects objects it touches:"
   ]
  },
  {
   "cell_type": "code",
   "execution_count": null,
   "metadata": {},
   "outputs": [],
   "source": [
    "1 + np.nan"
   ]
  },
  {
   "cell_type": "code",
   "execution_count": null,
   "metadata": {},
   "outputs": [],
   "source": [
    "0 * np.nan"
   ]
  },
  {
   "cell_type": "code",
   "execution_count": null,
   "metadata": {},
   "outputs": [],
   "source": [
    "vals2.sum(), vals2.min(), vals2.max()"
   ]
  },
  {
   "cell_type": "code",
   "execution_count": null,
   "metadata": {},
   "outputs": [],
   "source": [
    "np.nan == np.nan"
   ]
  },
  {
   "cell_type": "markdown",
   "metadata": {},
   "source": [
    "Numpy has `nan`-aware counterparts to many of its aggregation functions, which can work with NaNs correctly. They usually have the same name as their non-NaN sibling, but with the \"nan\" preface:"
   ]
  },
  {
   "cell_type": "code",
   "execution_count": null,
   "metadata": {},
   "outputs": [],
   "source": [
    "print(np.nansum(vals2))\n",
    "print(np.nanmean(vals2))"
   ]
  },
  {
   "cell_type": "markdown",
   "metadata": {},
   "source": [
    "However, pandas objects account for NaNs in their calculations, as we'll soon see.\n",
    "\n",
    "Pandas can handle both `NaN` and `None` interchangeably:"
   ]
  },
  {
   "cell_type": "code",
   "execution_count": null,
   "metadata": {},
   "outputs": [],
   "source": [
    "ser = pd.Series([1, np.nan, 2, None])\n",
    "ser"
   ]
  },
  {
   "cell_type": "markdown",
   "metadata": {},
   "source": [
    "### The `NaT` value\n"
   ]
  },
  {
   "cell_type": "markdown",
   "metadata": {},
   "source": [
    "When dealing with datetime values or indices, the missing value is represented as `NaT`, or not-a-time:\n",
    "<div style=\"text-align:center\"><img src=\"https://149366099.v2.pressablecdn.com/wp-content/uploads/2014/10/What-is-time.png\" /></div>"
   ]
  },
  {
   "cell_type": "code",
   "execution_count": null,
   "metadata": {},
   "outputs": [],
   "source": [
    "df['timestamp'] = pd.Timestamp('20180101')\n",
    "df"
   ]
  },
  {
   "cell_type": "code",
   "execution_count": null,
   "metadata": {},
   "outputs": [],
   "source": [
    "df2 = df.reindex(['a', 'b', 'c', 'd', 'e', 'f', 'g', 'h'])\n",
    "df2"
   ]
  },
  {
   "cell_type": "markdown",
   "metadata": {},
   "source": [
    "### Operations and calculations with missing data"
   ]
  },
  {
   "cell_type": "code",
   "execution_count": null,
   "metadata": {},
   "outputs": [],
   "source": [
    "a = pd.DataFrame(np.random.random((5, 2)), columns=['one', 'two'])\n",
    "a.iloc[1, 1] = np.nan\n",
    "a"
   ]
  },
  {
   "cell_type": "code",
   "execution_count": null,
   "metadata": {},
   "outputs": [],
   "source": [
    "b = pd.DataFrame(np.random.random((6, 3)), columns=['one', 'two', 'three'])\n",
    "b.iloc[2, 2] = np.nan\n",
    "b"
   ]
  },
  {
   "cell_type": "code",
   "execution_count": null,
   "metadata": {},
   "outputs": [],
   "source": [
    "a + b"
   ]
  },
  {
   "cell_type": "markdown",
   "metadata": {},
   "source": [
    "As we see, missing values propagate naturally through these arithmetic operations. Statistics also works:"
   ]
  },
  {
   "cell_type": "code",
   "execution_count": null,
   "metadata": {},
   "outputs": [],
   "source": [
    "(a + b).describe()\n",
    "# Summation - NaNs are zero.\n",
    "# If everything is NaN - the result is NaN as well.\n",
    "# pandas' cumsum and cumprod ignore NaNs but preserve them in the resulting arrays."
   ]
  },
  {
   "cell_type": "markdown",
   "metadata": {},
   "source": [
    "We can also receive a boolean mask of the NaNs in a dataframe:"
   ]
  },
  {
   "cell_type": "code",
   "execution_count": null,
   "metadata": {},
   "outputs": [],
   "source": [
    "mask = (a + b).isnull()  # also isna(), and the opposite .notnull()\n",
    "mask"
   ]
  },
  {
   "cell_type": "markdown",
   "metadata": {},
   "source": [
    "#### Filling missing values"
   ]
  },
  {
   "cell_type": "markdown",
   "metadata": {},
   "source": [
    "The simplest option is to use the `fillna` method:"
   ]
  },
  {
   "cell_type": "code",
   "execution_count": null,
   "metadata": {},
   "outputs": [],
   "source": [
    "summed = a + b\n",
    "summed.iloc[4, 0] = np.nan\n",
    "summed"
   ]
  },
  {
   "cell_type": "code",
   "execution_count": null,
   "metadata": {},
   "outputs": [],
   "source": [
    "summed.fillna(0)"
   ]
  },
  {
   "cell_type": "code",
   "execution_count": null,
   "metadata": {},
   "outputs": [],
   "source": [
    "summed.fillna('missing')  # changed dtype to \"object\""
   ]
  },
  {
   "cell_type": "code",
   "execution_count": null,
   "metadata": {},
   "outputs": [],
   "source": [
    "summed.fillna(method='pad')  # The NaN column remained the same, but values were propagated forward\n",
    "# We can also use the \"backfill\" method to fill in values to the back"
   ]
  },
  {
   "cell_type": "code",
   "execution_count": null,
   "metadata": {},
   "outputs": [],
   "source": [
    "summed.fillna(method='pad', limit=1)  # No more than one padded NaN in a row"
   ]
  },
  {
   "cell_type": "code",
   "execution_count": null,
   "metadata": {},
   "outputs": [],
   "source": [
    "summed.fillna(summed.mean())  # each column received its respective mean. The NaN column is untouched."
   ]
  },
  {
   "cell_type": "markdown",
   "metadata": {},
   "source": [
    "#### Dropping missing values"
   ]
  },
  {
   "cell_type": "markdown",
   "metadata": {},
   "source": [
    "We've already seen in the short exercise the `dropna` method, that allows us to drop missing values:"
   ]
  },
  {
   "cell_type": "code",
   "execution_count": null,
   "metadata": {},
   "outputs": [],
   "source": [
    "summed"
   ]
  },
  {
   "cell_type": "code",
   "execution_count": null,
   "metadata": {},
   "outputs": [],
   "source": [
    "filled = summed.fillna(summed.mean())\n",
    "filled"
   ]
  },
  {
   "cell_type": "code",
   "execution_count": null,
   "metadata": {},
   "outputs": [],
   "source": [
    "filled.dropna(axis=1)  # each column containing NaN is dropped"
   ]
  },
  {
   "cell_type": "code",
   "execution_count": null,
   "metadata": {},
   "outputs": [],
   "source": [
    "filled.dropna(axis=0)  # each row containing a NaN is dropped"
   ]
  },
  {
   "cell_type": "markdown",
   "metadata": {},
   "source": [
    "#### Interpolation"
   ]
  },
  {
   "cell_type": "markdown",
   "metadata": {},
   "source": [
    "The last way to to fill in missing values is through [interpolation](https://pandas.pydata.org/pandas-docs/stable/reference/api/pandas.DataFrame.interpolate.html).\n",
    "\n",
    "The default interpolation methods perform linear interpolation on the data, based on its ordinal index:"
   ]
  },
  {
   "cell_type": "code",
   "execution_count": null,
   "metadata": {},
   "outputs": [],
   "source": [
    "summed"
   ]
  },
  {
   "cell_type": "code",
   "execution_count": null,
   "metadata": {},
   "outputs": [],
   "source": [
    "summed.interpolate()  # notice all the details in the interpolation of the three columns"
   ]
  },
  {
   "cell_type": "markdown",
   "metadata": {},
   "source": [
    "We can also interpolate with the actual index values in mind:"
   ]
  },
  {
   "cell_type": "code",
   "execution_count": null,
   "metadata": {},
   "outputs": [],
   "source": [
    "# Create \"missing\" index\n",
    "timeindex = pd.Series(['1/1/2018', '1/4/2018', '1/5/2018', '1/7/2018', '1/8/2018'])\n",
    "timeindex = pd.to_datetime(timeindex)\n",
    "data_to_interp = [1, np.nan, 5, np.nan, 8]\n",
    "df_to_interp = pd.DataFrame(data_to_interp, index=timeindex)\n",
    "df_to_interp"
   ]
  },
  {
   "cell_type": "code",
   "execution_count": null,
   "metadata": {},
   "outputs": [],
   "source": [
    "df_to_interp.interpolate()  # the index values aren't taken into account"
   ]
  },
  {
   "cell_type": "code",
   "execution_count": null,
   "metadata": {},
   "outputs": [],
   "source": [
    "df_to_interp.interpolate(method='index')  # notice how the data obtains the \"right\" values"
   ]
  },
  {
   "cell_type": "markdown",
   "metadata": {},
   "source": [
    "Pandas has many other interpolation methods, based on SciPy's. "
   ]
  },
  {
   "cell_type": "code",
   "execution_count": null,
   "metadata": {},
   "outputs": [],
   "source": [
    "df_inter_2 = pd.DataFrame({'A': [1, 2.1, np.nan, 4.7, 5.6, 6.8],\n",
    "                           'B': [.25, np.nan, np.nan, 4, 12.2, 14.4]})\n",
    "df_inter_2"
   ]
  },
  {
   "cell_type": "code",
   "execution_count": null,
   "metadata": {
    "scrolled": true
   },
   "outputs": [],
   "source": [
    "df_inter_2.interpolate(method='polynomial', order=2)"
   ]
  },
  {
   "cell_type": "markdown",
   "metadata": {},
   "source": [
    "### Missing Values in Non-Float Columns"
   ]
  },
  {
   "cell_type": "markdown",
   "metadata": {},
   "source": [
    "Starting from pandas v1.0.0 pandas gained support for NaN values in non-float columns. This feature is a bit experimental currently, so the default behavior still converts integers to floats for example, but the support is there if you know where to look. By default:"
   ]
  },
  {
   "cell_type": "code",
   "execution_count": null,
   "metadata": {
    "scrolled": true
   },
   "outputs": [],
   "source": [
    "nanint = pd.Series([1, 2, np.nan, 4])\n",
    "nanint  # the result has a dtype of float64 even though all numbers are integers."
   ]
  },
  {
   "cell_type": "markdown",
   "metadata": {},
   "source": [
    "We can try to force pandas' hand here, but it won't work:"
   ]
  },
  {
   "cell_type": "code",
   "execution_count": null,
   "metadata": {
    "scrolled": true
   },
   "outputs": [],
   "source": [
    "nanint = pd.Series([1, 2, np.nan, 4], dtype=\"int32\")"
   ]
  },
  {
   "cell_type": "markdown",
   "metadata": {},
   "source": [
    "To our rescue comes the new `pd.Int32Dtype`:"
   ]
  },
  {
   "cell_type": "code",
   "execution_count": null,
   "metadata": {
    "scrolled": true
   },
   "outputs": [],
   "source": [
    "nanint = pd.Series([1, 2, np.nan, 4], dtype=\"Int32\")\n",
    "nanint"
   ]
  },
  {
   "cell_type": "markdown",
   "metadata": {},
   "source": [
    "It worked! We have a series with integers and a missing value! Notice the changes we had to made:\n",
    "1. The `NaN` is `<NA>` now. It's actually a new type of `NaN` called `pd.NA`.\n",
    "2. The data type had to be mentioned explictly, meaning that the conversion will work only if we know in advance that we'll have NA values.\n",
    "3. The data type is `Int32`. It's CamelCase and it's actually a class underneath. Standard datatypes are lowercase.\n",
    "\n",
    "Caveats aside, this is definitely useful for scientists who sometimes have integer values and do not want to convert them to float to supports NAs."
   ]
  },
  {
   "cell_type": "markdown",
   "metadata": {},
   "source": [
    "## Categorical Data"
   ]
  },
  {
   "cell_type": "markdown",
   "metadata": {},
   "source": [
    "Most data we've been working on is 'quantitative' in its nature i.e. integers and real numbers can hold (in general terms) any value. But [categorical data](https://pandas.pydata.org/pandas-docs/stable/user_guide/categorical.html) data can only have one of a specific set, or categories, of data. For example, if we have a column which marks the weekday, then it can obviously only be one of seven options. Same for boolean data, colors, and other examples. These data columns should be marked as \"categorical\" to reduce memory consumption and improve performance. It also tells the code readers more about the nature of that data column."
   ]
  },
  {
   "cell_type": "markdown",
   "metadata": {},
   "source": [
    "The easiest way to create a categorical variable is to declare it as such, or to convert as existing column to a categorical data type:"
   ]
  },
  {
   "cell_type": "code",
   "execution_count": null,
   "metadata": {},
   "outputs": [],
   "source": [
    "s = pd.Series([\"a\", \"b\", \"c\", \"a\"], dtype=\"category\")\n",
    "s"
   ]
  },
  {
   "cell_type": "code",
   "execution_count": null,
   "metadata": {},
   "outputs": [],
   "source": [
    "df = pd.DataFrame({\"A\": [\"a\", \"b\", \"c\", \"a\"]})\n",
    "df[\"B\"] = df[\"A\"].astype(\"category\")\n",
    "print(f\"DataFrame:\\n{df}\")\n",
    "print(f\"\\nData types:\\n{df.dtypes}\")"
   ]
  },
  {
   "cell_type": "markdown",
   "metadata": {},
   "source": [
    "We can also force order between our categories, or force specific categories on our data, using the special CategoricalDtype (which we won't show).\n",
    "\n",
    "As we said, memory usage is reduced when working with categorical data:"
   ]
  },
  {
   "cell_type": "code",
   "execution_count": null,
   "metadata": {
    "scrolled": true
   },
   "outputs": [],
   "source": [
    "df_obj = pd.DataFrame({'a': np.random.random(10_000), 'b': ['a'] * 10_000})\n",
    "df_obj"
   ]
  },
  {
   "cell_type": "code",
   "execution_count": null,
   "metadata": {
    "scrolled": true
   },
   "outputs": [],
   "source": [
    "df_cat = pd.DataFrame({'a': df_obj['a'], 'b': df_obj['b'].astype('category')})\n",
    "df_cat"
   ]
  },
  {
   "cell_type": "code",
   "execution_count": null,
   "metadata": {},
   "outputs": [],
   "source": [
    "df_obj.memory_usage()"
   ]
  },
  {
   "cell_type": "code",
   "execution_count": null,
   "metadata": {
    "scrolled": true
   },
   "outputs": [],
   "source": [
    "df_cat.memory_usage()"
   ]
  },
  {
   "cell_type": "markdown",
   "metadata": {},
   "source": [
    "A factor of 8 in memory reduction."
   ]
  },
  {
   "cell_type": "markdown",
   "metadata": {},
   "source": [
    "## Hierarchical Indexing"
   ]
  },
  {
   "cell_type": "markdown",
   "metadata": {},
   "source": [
    "Last time we mentioned that while a DataFrame is inherently a 2D object, it can contain multi-dimensional data. The way a DataFrame (and a Series) does that is with [hierarchical indexing](https://pandas.pydata.org/pandas-docs/stable/user_guide/advanced.html), or sometimes Multi-Indexing."
   ]
  },
  {
   "cell_type": "markdown",
   "metadata": {},
   "source": [
    "### Simple Example - Temperature in a Grid"
   ]
  },
  {
   "cell_type": "markdown",
   "metadata": {},
   "source": [
    "Let's assume I wish to represent points on a 2D grid, perhaps inside a square, that represent the temperature in different locations around this grid. The obvious way to do this is to define a set of two coordinates, $(x, y)$, which point to a specific location inside my square. These two coordinates should also have a value attached to them, the temperature. A list of such coordinates can be a simple Series:"
   ]
  },
  {
   "cell_type": "code",
   "execution_count": null,
   "metadata": {},
   "outputs": [],
   "source": [
    "values = np.array([1.2, 0.8, 3.1, 0.1, 0.05, 1, 1.4, 2.1, 2.9])\n",
    "coords = [('r0', 'c0'), ('r0', 'c1'), ('r0', 'c2'), \n",
    "          ('r1', 'c0'), ('r1', 'c1'), ('r1', 'c2'), \n",
    "          ('r2', 'c0'), ('r2', 'c1'), ('r2', 'c2')]  # r is row, c is column\n",
    "points = pd.Series(values, index=coords, name='temperature')\n",
    "points"
   ]
  },
  {
   "cell_type": "markdown",
   "metadata": {},
   "source": [
    "It is important we understand that this is a series because _the data is one-dimensional_. The actual data is contained in that rightmost column, a one-dimensional array. We do have two coordinates for each point, but the data itself, the temperature, is one-dimensional.\n",
    "\n",
    "Currently, the index is a simple tuple of coordinates. It's a single column, containing tuples. Pandas can help us to index this data in a more intuitive manner, using a MultiIndex object."
   ]
  },
  {
   "cell_type": "code",
   "execution_count": null,
   "metadata": {},
   "outputs": [],
   "source": [
    "mindex = pd.MultiIndex.from_tuples(coords)\n",
    "mindex"
   ]
  },
  {
   "cell_type": "markdown",
   "metadata": {},
   "source": [
    "We received something which looks quite similar to the list of tuples we had before, but it's a [`MultiIndex`](https://pandas.pydata.org/pandas-docs/stable/reference/api/pandas.MultiIndex.html) instance. Let's see how it helps us by `reindex`ing our data with it:"
   ]
  },
  {
   "cell_type": "code",
   "execution_count": null,
   "metadata": {},
   "outputs": [],
   "source": [
    "points = points.reindex(mindex)\n",
    "points"
   ]
  },
  {
   "cell_type": "markdown",
   "metadata": {},
   "source": [
    "This looks good. Each index level is represented by a column, with the data being the last one. The \"missing\" values indicate that the value in that cell is the same as the value above it.\n",
    "\n",
    "You might have assumed that accessing the data now is much more intuitive. Let's look at the values of all the points in the first row, `r0`:"
   ]
  },
  {
   "cell_type": "code",
   "execution_count": null,
   "metadata": {},
   "outputs": [],
   "source": [
    "points.loc['r0', :]  # .loc() is label-based indexing"
   ]
  },
  {
   "cell_type": "markdown",
   "metadata": {},
   "source": [
    "Or the values of points in the second column:"
   ]
  },
  {
   "cell_type": "code",
   "execution_count": null,
   "metadata": {
    "scrolled": true
   },
   "outputs": [],
   "source": [
    "points.loc[:, 'c1']"
   ]
  },
  {
   "cell_type": "code",
   "execution_count": null,
   "metadata": {},
   "outputs": [],
   "source": [
    "points.loc[:, :, :]  # all values - each level of the index has its own colon (:)"
   ]
  },
  {
   "cell_type": "markdown",
   "metadata": {},
   "source": [
    "Note that `.iloc` disregards the MultiIndex, treating our data as a simple one-dimensional vector (as it actually is):"
   ]
  },
  {
   "cell_type": "code",
   "execution_count": null,
   "metadata": {},
   "outputs": [],
   "source": [
    "points.iloc[6]\n",
    "# points.iloc[0, 1]  # ERRORS"
   ]
  },
  {
   "cell_type": "markdown",
   "metadata": {},
   "source": [
    "Besides making the syntax cleaner, these slicing operations are as efficient as their single-dimension counterparts."
   ]
  },
  {
   "cell_type": "markdown",
   "metadata": {},
   "source": [
    "It should be clear that a MultiIndex can have more than two levels. Modelling a 3D cube (with the temperatures inside it) is as easy as:"
   ]
  },
  {
   "cell_type": "code",
   "execution_count": null,
   "metadata": {},
   "outputs": [],
   "source": [
    "values3d = np.array([1.2, 0.8, \n",
    "                     3.1, 0.1, \n",
    "                     0.05, 1, \n",
    "                     1.4, 2.1, \n",
    "                     2.9, 0.3,\n",
    "                     2.4, 1.9])\n",
    "# 3D coordinates with a shape of (r, c, z) = (3, 2, 2)\n",
    "coords3d = [('r0', 'c0', 'z0'), ('r0', 'c0', 'z1'), \n",
    "            ('r0', 'c1', 'z0'), ('r0', 'c1', 'z1'),\n",
    "            ('r1', 'c0', 'z0'), ('r1', 'c0', 'z1'),\n",
    "            ('r1', 'c1', 'z0'), ('r1', 'c1', 'z1'), \n",
    "            ('r2', 'c0', 'z0'), ('r2', 'c0', 'z1'),\n",
    "            ('r2', 'c1', 'z0'), ('r2', 'c1', 'z1')]  # we'll soon see an easier way to create this index\n",
    "cube = pd.Series(values3d, index=pd.MultiIndex.from_tuples(coords3d), name='temp_cube')\n",
    "cube"
   ]
  },
  {
   "cell_type": "markdown",
   "metadata": {},
   "source": [
    "We can even name the individual levels, which helps with some slicing operations we'll see below:"
   ]
  },
  {
   "cell_type": "code",
   "execution_count": null,
   "metadata": {},
   "outputs": [],
   "source": [
    "cube.index.names = ['x', 'y', 'z']\n",
    "cube"
   ]
  },
  {
   "cell_type": "markdown",
   "metadata": {},
   "source": [
    "Again, you have to remember that this is one-dimensional data, with a three-dimensional index. In statistical term, we might term the indices a fixed, independent categorical variable, while the values are the dependent variable. Pandas actually has a [`CategoricalIndex`](https://pandas.pydata.org/docs/reference/api/pandas.CategoricalIndex.html) object which you'll meet in one of your future homework assignments (but don't be afraid to hit the link and check it out on your own if you just can't wait)."
   ]
  },
  {
   "cell_type": "markdown",
   "metadata": {},
   "source": [
    "### More on extra dimensions"
   ]
  },
  {
   "cell_type": "markdown",
   "metadata": {},
   "source": [
    "In the previous square example, it's very appealing to ditch the MultiIndex altogether and just work with a DataFrame, or even a simple numpy array. This is because the two indices represented rows and columns. A quick way to turn one representation into the other is the [`stack()`\\\\`unstack()`](https://pandas.pydata.org/docs/user_guide/reshaping.html) method:"
   ]
  },
  {
   "cell_type": "code",
   "execution_count": null,
   "metadata": {},
   "outputs": [],
   "source": [
    "points.index.names = ['rows', 'columns']\n",
    "points"
   ]
  },
  {
   "cell_type": "code",
   "execution_count": null,
   "metadata": {},
   "outputs": [],
   "source": [
    "pts_df = points.unstack()\n",
    "pts_df"
   ]
  },
  {
   "cell_type": "code",
   "execution_count": null,
   "metadata": {},
   "outputs": [],
   "source": [
    "pts_df.stack()  # back to a series"
   ]
  },
  {
   "cell_type": "markdown",
   "metadata": {},
   "source": [
    "If we want to turn the indices into \"real\" columns, we can use the `reset_index()` method:"
   ]
  },
  {
   "cell_type": "code",
   "execution_count": null,
   "metadata": {},
   "outputs": [],
   "source": [
    "pts_df_reset = points.reset_index()\n",
    "pts_df_reset"
   ]
  },
  {
   "cell_type": "markdown",
   "metadata": {},
   "source": [
    "So why bother with these (you haven't seen nothing yet) complicated multi-indices?\n",
    "\n",
    "As you might have guessed, adding data points, i.e. increasing the dimensionality of the data, is very easy and intuitive. Data remains aligned through addition and deletion of data. Moreover, treating these categorical variables as an index can help the mental modeling of the problem, especially when you wish to perform statistical modeling with your analysis."
   ]
  },
  {
   "cell_type": "markdown",
   "metadata": {},
   "source": [
    "### Constructing a MultiIndex"
   ]
  },
  {
   "cell_type": "markdown",
   "metadata": {},
   "source": [
    "Creating a hierarchical index can be done in several ways:"
   ]
  },
  {
   "cell_type": "code",
   "execution_count": null,
   "metadata": {},
   "outputs": [],
   "source": [
    "pd.MultiIndex.from_arrays([['a', 'a', 'b', 'b'], [1, 2, 1, 2]])"
   ]
  },
  {
   "cell_type": "code",
   "execution_count": null,
   "metadata": {},
   "outputs": [],
   "source": [
    "pd.MultiIndex.from_tuples([('a', 1), ('a', 2), ('b', 1), ('b', 2)])"
   ]
  },
  {
   "cell_type": "code",
   "execution_count": null,
   "metadata": {},
   "outputs": [],
   "source": [
    "pd.MultiIndex.from_product([['a', 'b'], [1, 2]])  # Cartesian product"
   ]
  },
  {
   "cell_type": "markdown",
   "metadata": {},
   "source": [
    "The most common way to construct a MultiIndex, though, is to add to the existing index one of the columns of the DataFrame. We'll see how it's done below."
   ]
  },
  {
   "cell_type": "markdown",
   "metadata": {},
   "source": [
    "Another important note is that with DataFrames, the column and row index is symmetric. In effect this means that  the columns could also contain a MultiIndex:"
   ]
  },
  {
   "cell_type": "code",
   "execution_count": null,
   "metadata": {},
   "outputs": [],
   "source": [
    "index = pd.MultiIndex.from_product([[2013, 2014], [1, 2]],\n",
    "                                   names=['year', 'visit'])\n",
    "columns = pd.MultiIndex.from_product([['Bob', 'Guido', 'Sue'], ['HR', 'Temp']],\n",
    "                                     names=['subject', 'type'])\n",
    "\n",
    "# mock some data\n",
    "data = np.round(np.random.randn(4, 6), 1)\n",
    "data[:, ::2] *= 10\n",
    "data += 37\n",
    "\n",
    "# create the DataFrame\n",
    "health_data = pd.DataFrame(data, index=index, columns=columns)\n",
    "health_data"
   ]
  },
  {
   "cell_type": "markdown",
   "metadata": {},
   "source": [
    "This sometimes might seem too much, and so usually people prefer to keep the column index as a simple list of names, moving any nestedness to the row index. This is due to the fact that usually columns represent the measured dependent variable."
   ]
  },
  {
   "cell_type": "code",
   "execution_count": null,
   "metadata": {},
   "outputs": [],
   "source": [
    "index = pd.MultiIndex.from_product([[2013, 2014], [1, 2], ['Bob', 'Guido', 'Sue']],\n",
    "                                   names=['year', 'visit', 'subject'])\n",
    "columns = ['HR', 'Temp']\n",
    "\n",
    "# mock some data\n",
    "data = np.round(np.random.randn(12, 2), 1)\n",
    "data[:, ::2] *= 10\n",
    "data += 37\n",
    "\n",
    "# create the DataFrame\n",
    "health_data_row = pd.DataFrame(data, index=index, columns=columns)\n",
    "health_data_row"
   ]
  },
  {
   "cell_type": "markdown",
   "metadata": {},
   "source": [
    "#### Creating a MultiIndex from a data column"
   ]
  },
  {
   "cell_type": "markdown",
   "metadata": {},
   "source": [
    "While all of the above methods work, and could be useful sometimes, the most common method of creating an index is from an existing data column. "
   ]
  },
  {
   "cell_type": "code",
   "execution_count": null,
   "metadata": {},
   "outputs": [],
   "source": [
    "location = ['AL', 'AL', 'NY', 'NY', 'NY', 'VA']\n",
    "day = ['SUN', 'SUN', 'TUE', 'WED', 'SAT', 'SAT']\n",
    "temp = [12.3, 14.1, 21.3, 20.9, 18.8, 16.5]\n",
    "humidity = [31, 45, 41, 41, 49, 52]\n",
    "states = pd.DataFrame(dict(location=location, day=day, \n",
    "                           temp=temp, humidity=humidity))\n",
    "states"
   ]
  },
  {
   "cell_type": "code",
   "execution_count": null,
   "metadata": {},
   "outputs": [],
   "source": [
    "states.set_index(['day'])"
   ]
  },
  {
   "cell_type": "code",
   "execution_count": null,
   "metadata": {},
   "outputs": [],
   "source": [
    "states.set_index(['day', 'location'])"
   ]
  },
  {
   "cell_type": "code",
   "execution_count": null,
   "metadata": {},
   "outputs": [],
   "source": [
    "states.set_index(['day', 'location'], append=True)"
   ]
  },
  {
   "cell_type": "code",
   "execution_count": null,
   "metadata": {},
   "outputs": [],
   "source": [
    "states.set_index([['i', 'ii', 'iii', 'iv', 'v', 'vi'], 'day'])"
   ]
  },
  {
   "cell_type": "markdown",
   "metadata": {},
   "source": [
    "### Indexing and Slicing a MultiIndex"
   ]
  },
  {
   "cell_type": "markdown",
   "metadata": {},
   "source": [
    "We'll use these dataframes as an example:"
   ]
  },
  {
   "cell_type": "code",
   "execution_count": null,
   "metadata": {},
   "outputs": [],
   "source": [
    "health_data"
   ]
  },
  {
   "cell_type": "code",
   "execution_count": null,
   "metadata": {
    "scrolled": true
   },
   "outputs": [],
   "source": [
    "health_data_row"
   ]
  },
  {
   "cell_type": "markdown",
   "metadata": {},
   "source": [
    "If all we wish to do is to examine a column, indexing is very easy. Don't forget the DataFrame as dictionary analogy:"
   ]
  },
  {
   "cell_type": "code",
   "execution_count": null,
   "metadata": {},
   "outputs": [],
   "source": [
    "health_data['Guido']  # works for the column MultiIndex as expected"
   ]
  },
  {
   "cell_type": "code",
   "execution_count": null,
   "metadata": {},
   "outputs": [],
   "source": [
    "health_data_row['HR']  # that's a Series!"
   ]
  },
  {
   "cell_type": "markdown",
   "metadata": {},
   "source": [
    "Accessing single elements is also pretty straight-forward:"
   ]
  },
  {
   "cell_type": "code",
   "execution_count": null,
   "metadata": {},
   "outputs": [],
   "source": [
    "health_data_row.loc[2013, 1, 'Guido']  # index triplet"
   ]
  },
  {
   "cell_type": "markdown",
   "metadata": {},
   "source": [
    "We can even slice easily using the first `MultiIndex` (year in our case):"
   ]
  },
  {
   "cell_type": "code",
   "execution_count": null,
   "metadata": {
    "scrolled": true
   },
   "outputs": [],
   "source": [
    "health_data_row.loc[2013:2017]  # 2017 doesn't exist, but Python's slicing rules prevent an exception here\n",
    "# health_data_row.loc[1]  # doesn't work"
   ]
  },
  {
   "cell_type": "markdown",
   "metadata": {},
   "source": [
    "Slicing is a bit more difficult when we want to take into account all available indices. This is due to the possible conflicts between the different indices and the columns.\n",
    "\n",
    "Assuming we want to look at all the years, with all the visits, only by Bob - we would want to write something like this:"
   ]
  },
  {
   "cell_type": "code",
   "execution_count": null,
   "metadata": {
    "scrolled": true
   },
   "outputs": [],
   "source": [
    "health_data_row.loc[(:, :, 'Bob'), :]  # doesn't work"
   ]
  },
  {
   "cell_type": "markdown",
   "metadata": {},
   "source": [
    "This pickle is solved in two possible ways:\n",
    "\n",
    "First option is the [slice](https://www.programiz.com/python-programming/methods/built-in/slice) object:\n"
   ]
  },
  {
   "cell_type": "code",
   "execution_count": null,
   "metadata": {},
   "outputs": [],
   "source": [
    "bobs_data = (slice(None), slice(None), 'Bob')  # all years, all visits, of Bob\n",
    "health_data_row.loc[bobs_data, 'HR']\n",
    "# arr[slice(None), 1] is the same as arr[:, 1]"
   ]
  },
  {
   "cell_type": "code",
   "execution_count": null,
   "metadata": {},
   "outputs": [],
   "source": [
    "row_idx = (slice(None), slice(None), slice('Bob', 'Guido'))  # all years, all visits, Bob + Guido\n",
    "health_data_row.loc[row_idx, 'HR']"
   ]
  },
  {
   "cell_type": "markdown",
   "metadata": {},
   "source": [
    "Another option is the [IndexSlice](https://pandas.pydata.org/pandas-docs/stable/reference/api/pandas.IndexSlice.html) object:"
   ]
  },
  {
   "cell_type": "code",
   "execution_count": null,
   "metadata": {},
   "outputs": [],
   "source": [
    "\n",
    "idx = pd.IndexSlice\n",
    "health_data_row.loc[idx[:, :, 'Bob'], :]  # very close to the naive implementation"
   ]
  },
  {
   "cell_type": "code",
   "execution_count": null,
   "metadata": {},
   "outputs": [],
   "source": [
    "idx2 = pd.IndexSlice\n",
    "health_data_row.loc[idx2[2013:2015, 1, 'Bob':'Guido'], 'Temp']"
   ]
  },
  {
   "cell_type": "markdown",
   "metadata": {},
   "source": [
    "Finally, there's one more way to index into a `MultiIndex` which is very straight-forward and explicit - the [cross-section](https://pandas.pydata.org/pandas-docs/stable/reference/api/pandas.DataFrame.xs.html)."
   ]
  },
  {
   "cell_type": "code",
   "execution_count": null,
   "metadata": {},
   "outputs": [],
   "source": [
    "health_data_row.xs(key=(2013, 1), level=('year', 'visit'))"
   ]
  },
  {
   "cell_type": "markdown",
   "metadata": {},
   "source": [
    "#### Small caveat: unsorted indices"
   ]
  },
  {
   "cell_type": "markdown",
   "metadata": {},
   "source": [
    "Having an unsorted index in your `MultiIndex` might make the interpreter pop a few exceptions at you:"
   ]
  },
  {
   "cell_type": "code",
   "execution_count": 11,
   "metadata": {},
   "outputs": [
    {
     "data": {
      "text/plain": [
       "char  int\n",
       "a     1      0.465702\n",
       "      2      0.105761\n",
       "c     1      0.205175\n",
       "      2      0.018825\n",
       "b     1      0.299508\n",
       "      2      0.191860\n",
       "dtype: float64"
      ]
     },
     "execution_count": 11,
     "metadata": {},
     "output_type": "execute_result"
    }
   ],
   "source": [
    "# char index in unsorted\n",
    "index = pd.MultiIndex.from_product([['a', 'c', 'b'], [1, 2]])\n",
    "data = pd.Series(np.random.rand(6), index=index)\n",
    "data.index.names = ['char', 'int']\n",
    "data"
   ]
  },
  {
   "cell_type": "code",
   "execution_count": 12,
   "metadata": {},
   "outputs": [
    {
     "ename": "UnsortedIndexError",
     "evalue": "'Key length (1) was greater than MultiIndex lexsort depth (0)'",
     "output_type": "error",
     "traceback": [
      "\u001b[0;31m---------------------------------------------------------------------------\u001b[0m",
      "\u001b[0;31mUnsortedIndexError\u001b[0m                        Traceback (most recent call last)",
      "\u001b[0;32m<ipython-input-12-0e6568674d17>\u001b[0m in \u001b[0;36m<module>\u001b[0;34m\u001b[0m\n\u001b[0;32m----> 1\u001b[0;31m \u001b[0mdata\u001b[0m\u001b[0;34m[\u001b[0m\u001b[0;34m'a'\u001b[0m\u001b[0;34m:\u001b[0m\u001b[0;34m'b'\u001b[0m\u001b[0;34m]\u001b[0m\u001b[0;34m\u001b[0m\u001b[0;34m\u001b[0m\u001b[0m\n\u001b[0m",
      "\u001b[0;32m~/Projects/ml_for_neuro/venv/lib/python3.8/site-packages/pandas/core/series.py\u001b[0m in \u001b[0;36m__getitem__\u001b[0;34m(self, key)\u001b[0m\n\u001b[1;32m    846\u001b[0m             \u001b[0;32mreturn\u001b[0m \u001b[0mself\u001b[0m\u001b[0;34m.\u001b[0m\u001b[0m_get_values\u001b[0m\u001b[0;34m(\u001b[0m\u001b[0mkey\u001b[0m\u001b[0;34m)\u001b[0m\u001b[0;34m\u001b[0m\u001b[0;34m\u001b[0m\u001b[0m\n\u001b[1;32m    847\u001b[0m \u001b[0;34m\u001b[0m\u001b[0m\n\u001b[0;32m--> 848\u001b[0;31m         \u001b[0;32mreturn\u001b[0m \u001b[0mself\u001b[0m\u001b[0;34m.\u001b[0m\u001b[0m_get_with\u001b[0m\u001b[0;34m(\u001b[0m\u001b[0mkey\u001b[0m\u001b[0;34m)\u001b[0m\u001b[0;34m\u001b[0m\u001b[0;34m\u001b[0m\u001b[0m\n\u001b[0m\u001b[1;32m    849\u001b[0m \u001b[0;34m\u001b[0m\u001b[0m\n\u001b[1;32m    850\u001b[0m     \u001b[0;32mdef\u001b[0m \u001b[0m_get_with\u001b[0m\u001b[0;34m(\u001b[0m\u001b[0mself\u001b[0m\u001b[0;34m,\u001b[0m \u001b[0mkey\u001b[0m\u001b[0;34m)\u001b[0m\u001b[0;34m:\u001b[0m\u001b[0;34m\u001b[0m\u001b[0;34m\u001b[0m\u001b[0m\n",
      "\u001b[0;32m~/Projects/ml_for_neuro/venv/lib/python3.8/site-packages/pandas/core/series.py\u001b[0m in \u001b[0;36m_get_with\u001b[0;34m(self, key)\u001b[0m\n\u001b[1;32m    853\u001b[0m             \u001b[0;31m# _convert_slice_indexer to determine if this slice is positional\u001b[0m\u001b[0;34m\u001b[0m\u001b[0;34m\u001b[0m\u001b[0;34m\u001b[0m\u001b[0m\n\u001b[1;32m    854\u001b[0m             \u001b[0;31m#  or label based, and if the latter, convert to positional\u001b[0m\u001b[0;34m\u001b[0m\u001b[0;34m\u001b[0m\u001b[0;34m\u001b[0m\u001b[0m\n\u001b[0;32m--> 855\u001b[0;31m             \u001b[0mslobj\u001b[0m \u001b[0;34m=\u001b[0m \u001b[0mself\u001b[0m\u001b[0;34m.\u001b[0m\u001b[0mindex\u001b[0m\u001b[0;34m.\u001b[0m\u001b[0m_convert_slice_indexer\u001b[0m\u001b[0;34m(\u001b[0m\u001b[0mkey\u001b[0m\u001b[0;34m,\u001b[0m \u001b[0mkind\u001b[0m\u001b[0;34m=\u001b[0m\u001b[0;34m\"getitem\"\u001b[0m\u001b[0;34m)\u001b[0m\u001b[0;34m\u001b[0m\u001b[0;34m\u001b[0m\u001b[0m\n\u001b[0m\u001b[1;32m    856\u001b[0m             \u001b[0;32mreturn\u001b[0m \u001b[0mself\u001b[0m\u001b[0;34m.\u001b[0m\u001b[0m_slice\u001b[0m\u001b[0;34m(\u001b[0m\u001b[0mslobj\u001b[0m\u001b[0;34m)\u001b[0m\u001b[0;34m\u001b[0m\u001b[0;34m\u001b[0m\u001b[0m\n\u001b[1;32m    857\u001b[0m         \u001b[0;32melif\u001b[0m \u001b[0misinstance\u001b[0m\u001b[0;34m(\u001b[0m\u001b[0mkey\u001b[0m\u001b[0;34m,\u001b[0m \u001b[0mABCDataFrame\u001b[0m\u001b[0;34m)\u001b[0m\u001b[0;34m:\u001b[0m\u001b[0;34m\u001b[0m\u001b[0;34m\u001b[0m\u001b[0m\n",
      "\u001b[0;32m~/Projects/ml_for_neuro/venv/lib/python3.8/site-packages/pandas/core/indexes/base.py\u001b[0m in \u001b[0;36m_convert_slice_indexer\u001b[0;34m(self, key, kind)\u001b[0m\n\u001b[1;32m   3388\u001b[0m             \u001b[0mindexer\u001b[0m \u001b[0;34m=\u001b[0m \u001b[0mkey\u001b[0m\u001b[0;34m\u001b[0m\u001b[0;34m\u001b[0m\u001b[0m\n\u001b[1;32m   3389\u001b[0m         \u001b[0;32melse\u001b[0m\u001b[0;34m:\u001b[0m\u001b[0;34m\u001b[0m\u001b[0;34m\u001b[0m\u001b[0m\n\u001b[0;32m-> 3390\u001b[0;31m             \u001b[0mindexer\u001b[0m \u001b[0;34m=\u001b[0m \u001b[0mself\u001b[0m\u001b[0;34m.\u001b[0m\u001b[0mslice_indexer\u001b[0m\u001b[0;34m(\u001b[0m\u001b[0mstart\u001b[0m\u001b[0;34m,\u001b[0m \u001b[0mstop\u001b[0m\u001b[0;34m,\u001b[0m \u001b[0mstep\u001b[0m\u001b[0;34m,\u001b[0m \u001b[0mkind\u001b[0m\u001b[0;34m=\u001b[0m\u001b[0mkind\u001b[0m\u001b[0;34m)\u001b[0m\u001b[0;34m\u001b[0m\u001b[0;34m\u001b[0m\u001b[0m\n\u001b[0m\u001b[1;32m   3391\u001b[0m \u001b[0;34m\u001b[0m\u001b[0m\n\u001b[1;32m   3392\u001b[0m         \u001b[0;32mreturn\u001b[0m \u001b[0mindexer\u001b[0m\u001b[0;34m\u001b[0m\u001b[0;34m\u001b[0m\u001b[0m\n",
      "\u001b[0;32m~/Projects/ml_for_neuro/venv/lib/python3.8/site-packages/pandas/core/indexes/base.py\u001b[0m in \u001b[0;36mslice_indexer\u001b[0;34m(self, start, end, step, kind)\u001b[0m\n\u001b[1;32m   5275\u001b[0m         \u001b[0mslice\u001b[0m\u001b[0;34m(\u001b[0m\u001b[0;36m1\u001b[0m\u001b[0;34m,\u001b[0m \u001b[0;36m3\u001b[0m\u001b[0;34m,\u001b[0m \u001b[0;32mNone\u001b[0m\u001b[0;34m)\u001b[0m\u001b[0;34m\u001b[0m\u001b[0;34m\u001b[0m\u001b[0m\n\u001b[1;32m   5276\u001b[0m         \"\"\"\n\u001b[0;32m-> 5277\u001b[0;31m         \u001b[0mstart_slice\u001b[0m\u001b[0;34m,\u001b[0m \u001b[0mend_slice\u001b[0m \u001b[0;34m=\u001b[0m \u001b[0mself\u001b[0m\u001b[0;34m.\u001b[0m\u001b[0mslice_locs\u001b[0m\u001b[0;34m(\u001b[0m\u001b[0mstart\u001b[0m\u001b[0;34m,\u001b[0m \u001b[0mend\u001b[0m\u001b[0;34m,\u001b[0m \u001b[0mstep\u001b[0m\u001b[0;34m=\u001b[0m\u001b[0mstep\u001b[0m\u001b[0;34m,\u001b[0m \u001b[0mkind\u001b[0m\u001b[0;34m=\u001b[0m\u001b[0mkind\u001b[0m\u001b[0;34m)\u001b[0m\u001b[0;34m\u001b[0m\u001b[0;34m\u001b[0m\u001b[0m\n\u001b[0m\u001b[1;32m   5278\u001b[0m \u001b[0;34m\u001b[0m\u001b[0m\n\u001b[1;32m   5279\u001b[0m         \u001b[0;31m# return a slice\u001b[0m\u001b[0;34m\u001b[0m\u001b[0;34m\u001b[0m\u001b[0;34m\u001b[0m\u001b[0m\n",
      "\u001b[0;32m~/Projects/ml_for_neuro/venv/lib/python3.8/site-packages/pandas/core/indexes/multi.py\u001b[0m in \u001b[0;36mslice_locs\u001b[0;34m(self, start, end, step, kind)\u001b[0m\n\u001b[1;32m   2743\u001b[0m         \u001b[0;31m# This function adds nothing to its parent implementation (the magic\u001b[0m\u001b[0;34m\u001b[0m\u001b[0;34m\u001b[0m\u001b[0;34m\u001b[0m\u001b[0m\n\u001b[1;32m   2744\u001b[0m         \u001b[0;31m# happens in get_slice_bound method), but it adds meaningful doc.\u001b[0m\u001b[0;34m\u001b[0m\u001b[0;34m\u001b[0m\u001b[0;34m\u001b[0m\u001b[0m\n\u001b[0;32m-> 2745\u001b[0;31m         \u001b[0;32mreturn\u001b[0m \u001b[0msuper\u001b[0m\u001b[0;34m(\u001b[0m\u001b[0;34m)\u001b[0m\u001b[0;34m.\u001b[0m\u001b[0mslice_locs\u001b[0m\u001b[0;34m(\u001b[0m\u001b[0mstart\u001b[0m\u001b[0;34m,\u001b[0m \u001b[0mend\u001b[0m\u001b[0;34m,\u001b[0m \u001b[0mstep\u001b[0m\u001b[0;34m,\u001b[0m \u001b[0mkind\u001b[0m\u001b[0;34m=\u001b[0m\u001b[0mkind\u001b[0m\u001b[0;34m)\u001b[0m\u001b[0;34m\u001b[0m\u001b[0;34m\u001b[0m\u001b[0m\n\u001b[0m\u001b[1;32m   2746\u001b[0m \u001b[0;34m\u001b[0m\u001b[0m\n\u001b[1;32m   2747\u001b[0m     \u001b[0;32mdef\u001b[0m \u001b[0m_partial_tup_index\u001b[0m\u001b[0;34m(\u001b[0m\u001b[0mself\u001b[0m\u001b[0;34m,\u001b[0m \u001b[0mtup\u001b[0m\u001b[0;34m,\u001b[0m \u001b[0mside\u001b[0m\u001b[0;34m=\u001b[0m\u001b[0;34m\"left\"\u001b[0m\u001b[0;34m)\u001b[0m\u001b[0;34m:\u001b[0m\u001b[0;34m\u001b[0m\u001b[0;34m\u001b[0m\u001b[0m\n",
      "\u001b[0;32m~/Projects/ml_for_neuro/venv/lib/python3.8/site-packages/pandas/core/indexes/base.py\u001b[0m in \u001b[0;36mslice_locs\u001b[0;34m(self, start, end, step, kind)\u001b[0m\n\u001b[1;32m   5474\u001b[0m         \u001b[0mstart_slice\u001b[0m \u001b[0;34m=\u001b[0m \u001b[0;32mNone\u001b[0m\u001b[0;34m\u001b[0m\u001b[0;34m\u001b[0m\u001b[0m\n\u001b[1;32m   5475\u001b[0m         \u001b[0;32mif\u001b[0m \u001b[0mstart\u001b[0m \u001b[0;32mis\u001b[0m \u001b[0;32mnot\u001b[0m \u001b[0;32mNone\u001b[0m\u001b[0;34m:\u001b[0m\u001b[0;34m\u001b[0m\u001b[0;34m\u001b[0m\u001b[0m\n\u001b[0;32m-> 5476\u001b[0;31m             \u001b[0mstart_slice\u001b[0m \u001b[0;34m=\u001b[0m \u001b[0mself\u001b[0m\u001b[0;34m.\u001b[0m\u001b[0mget_slice_bound\u001b[0m\u001b[0;34m(\u001b[0m\u001b[0mstart\u001b[0m\u001b[0;34m,\u001b[0m \u001b[0;34m\"left\"\u001b[0m\u001b[0;34m,\u001b[0m \u001b[0mkind\u001b[0m\u001b[0;34m)\u001b[0m\u001b[0;34m\u001b[0m\u001b[0;34m\u001b[0m\u001b[0m\n\u001b[0m\u001b[1;32m   5477\u001b[0m         \u001b[0;32mif\u001b[0m \u001b[0mstart_slice\u001b[0m \u001b[0;32mis\u001b[0m \u001b[0;32mNone\u001b[0m\u001b[0;34m:\u001b[0m\u001b[0;34m\u001b[0m\u001b[0;34m\u001b[0m\u001b[0m\n\u001b[1;32m   5478\u001b[0m             \u001b[0mstart_slice\u001b[0m \u001b[0;34m=\u001b[0m \u001b[0;36m0\u001b[0m\u001b[0;34m\u001b[0m\u001b[0;34m\u001b[0m\u001b[0m\n",
      "\u001b[0;32m~/Projects/ml_for_neuro/venv/lib/python3.8/site-packages/pandas/core/indexes/multi.py\u001b[0m in \u001b[0;36mget_slice_bound\u001b[0;34m(self, label, side, kind)\u001b[0m\n\u001b[1;32m   2687\u001b[0m         \u001b[0;32mif\u001b[0m \u001b[0;32mnot\u001b[0m \u001b[0misinstance\u001b[0m\u001b[0;34m(\u001b[0m\u001b[0mlabel\u001b[0m\u001b[0;34m,\u001b[0m \u001b[0mtuple\u001b[0m\u001b[0;34m)\u001b[0m\u001b[0;34m:\u001b[0m\u001b[0;34m\u001b[0m\u001b[0;34m\u001b[0m\u001b[0m\n\u001b[1;32m   2688\u001b[0m             \u001b[0mlabel\u001b[0m \u001b[0;34m=\u001b[0m \u001b[0;34m(\u001b[0m\u001b[0mlabel\u001b[0m\u001b[0;34m,\u001b[0m\u001b[0;34m)\u001b[0m\u001b[0;34m\u001b[0m\u001b[0;34m\u001b[0m\u001b[0m\n\u001b[0;32m-> 2689\u001b[0;31m         \u001b[0;32mreturn\u001b[0m \u001b[0mself\u001b[0m\u001b[0;34m.\u001b[0m\u001b[0m_partial_tup_index\u001b[0m\u001b[0;34m(\u001b[0m\u001b[0mlabel\u001b[0m\u001b[0;34m,\u001b[0m \u001b[0mside\u001b[0m\u001b[0;34m=\u001b[0m\u001b[0mside\u001b[0m\u001b[0;34m)\u001b[0m\u001b[0;34m\u001b[0m\u001b[0;34m\u001b[0m\u001b[0m\n\u001b[0m\u001b[1;32m   2690\u001b[0m \u001b[0;34m\u001b[0m\u001b[0m\n\u001b[1;32m   2691\u001b[0m     \u001b[0;32mdef\u001b[0m \u001b[0mslice_locs\u001b[0m\u001b[0;34m(\u001b[0m\u001b[0mself\u001b[0m\u001b[0;34m,\u001b[0m \u001b[0mstart\u001b[0m\u001b[0;34m=\u001b[0m\u001b[0;32mNone\u001b[0m\u001b[0;34m,\u001b[0m \u001b[0mend\u001b[0m\u001b[0;34m=\u001b[0m\u001b[0;32mNone\u001b[0m\u001b[0;34m,\u001b[0m \u001b[0mstep\u001b[0m\u001b[0;34m=\u001b[0m\u001b[0;32mNone\u001b[0m\u001b[0;34m,\u001b[0m \u001b[0mkind\u001b[0m\u001b[0;34m=\u001b[0m\u001b[0;32mNone\u001b[0m\u001b[0;34m)\u001b[0m\u001b[0;34m:\u001b[0m\u001b[0;34m\u001b[0m\u001b[0;34m\u001b[0m\u001b[0m\n",
      "\u001b[0;32m~/Projects/ml_for_neuro/venv/lib/python3.8/site-packages/pandas/core/indexes/multi.py\u001b[0m in \u001b[0;36m_partial_tup_index\u001b[0;34m(self, tup, side)\u001b[0m\n\u001b[1;32m   2747\u001b[0m     \u001b[0;32mdef\u001b[0m \u001b[0m_partial_tup_index\u001b[0m\u001b[0;34m(\u001b[0m\u001b[0mself\u001b[0m\u001b[0;34m,\u001b[0m \u001b[0mtup\u001b[0m\u001b[0;34m,\u001b[0m \u001b[0mside\u001b[0m\u001b[0;34m=\u001b[0m\u001b[0;34m\"left\"\u001b[0m\u001b[0;34m)\u001b[0m\u001b[0;34m:\u001b[0m\u001b[0;34m\u001b[0m\u001b[0;34m\u001b[0m\u001b[0m\n\u001b[1;32m   2748\u001b[0m         \u001b[0;32mif\u001b[0m \u001b[0mlen\u001b[0m\u001b[0;34m(\u001b[0m\u001b[0mtup\u001b[0m\u001b[0;34m)\u001b[0m \u001b[0;34m>\u001b[0m \u001b[0mself\u001b[0m\u001b[0;34m.\u001b[0m\u001b[0mlexsort_depth\u001b[0m\u001b[0;34m:\u001b[0m\u001b[0;34m\u001b[0m\u001b[0;34m\u001b[0m\u001b[0m\n\u001b[0;32m-> 2749\u001b[0;31m             raise UnsortedIndexError(\n\u001b[0m\u001b[1;32m   2750\u001b[0m                 \u001b[0;34mf\"Key length ({len(tup)}) was greater than MultiIndex lexsort depth \"\u001b[0m\u001b[0;34m\u001b[0m\u001b[0;34m\u001b[0m\u001b[0m\n\u001b[1;32m   2751\u001b[0m                 \u001b[0;34mf\"({self.lexsort_depth})\"\u001b[0m\u001b[0;34m\u001b[0m\u001b[0;34m\u001b[0m\u001b[0m\n",
      "\u001b[0;31mUnsortedIndexError\u001b[0m: 'Key length (1) was greater than MultiIndex lexsort depth (0)'"
     ]
    }
   ],
   "source": [
    "data['a':'b']"
   ]
  },
  {
   "cell_type": "markdown",
   "metadata": {},
   "source": [
    "`lexsort` means \"lexicography-sorted\", or sorted by either number or letter. Sorting an index is done with the [`sort_index()`](https://pandas.pydata.org/pandas-docs/stable/reference/api/pandas.DataFrame.sort_index.html) method:"
   ]
  },
  {
   "cell_type": "code",
   "execution_count": 13,
   "metadata": {},
   "outputs": [
    {
     "name": "stdout",
     "output_type": "stream",
     "text": [
      "char  int\n",
      "a     1      0.465702\n",
      "      2      0.105761\n",
      "b     1      0.299508\n",
      "      2      0.191860\n",
      "c     1      0.205175\n",
      "      2      0.018825\n",
      "dtype: float64\n",
      "char  int\n",
      "a     1      0.465702\n",
      "      2      0.105761\n",
      "b     1      0.299508\n",
      "      2      0.191860\n",
      "dtype: float64\n"
     ]
    }
   ],
   "source": [
    "data.sort_index(inplace=True)\n",
    "print(data)\n",
    "print(data['a':'b'])  # now it works"
   ]
  },
  {
   "cell_type": "markdown",
   "metadata": {},
   "source": [
    "### Data Aggregation"
   ]
  },
  {
   "cell_type": "markdown",
   "metadata": {},
   "source": [
    "Data aggregation using a `MultiIndex` is super simple:"
   ]
  },
  {
   "cell_type": "code",
   "execution_count": 14,
   "metadata": {},
   "outputs": [
    {
     "ename": "NameError",
     "evalue": "name 'states' is not defined",
     "output_type": "error",
     "traceback": [
      "\u001b[0;31m---------------------------------------------------------------------------\u001b[0m",
      "\u001b[0;31mNameError\u001b[0m                                 Traceback (most recent call last)",
      "\u001b[0;32m<ipython-input-14-1fad23fdbdfe>\u001b[0m in \u001b[0;36m<module>\u001b[0;34m\u001b[0m\n\u001b[0;32m----> 1\u001b[0;31m \u001b[0mstates\u001b[0m\u001b[0;34m\u001b[0m\u001b[0;34m\u001b[0m\u001b[0m\n\u001b[0m",
      "\u001b[0;31mNameError\u001b[0m: name 'states' is not defined"
     ]
    }
   ],
   "source": [
    "states"
   ]
  },
  {
   "cell_type": "code",
   "execution_count": 15,
   "metadata": {},
   "outputs": [
    {
     "ename": "NameError",
     "evalue": "name 'states' is not defined",
     "output_type": "error",
     "traceback": [
      "\u001b[0;31m---------------------------------------------------------------------------\u001b[0m",
      "\u001b[0;31mNameError\u001b[0m                                 Traceback (most recent call last)",
      "\u001b[0;32m<ipython-input-15-4b16599bcbbd>\u001b[0m in \u001b[0;36m<module>\u001b[0;34m\u001b[0m\n\u001b[0;32m----> 1\u001b[0;31m \u001b[0mstates\u001b[0m\u001b[0;34m.\u001b[0m\u001b[0mset_index\u001b[0m\u001b[0;34m(\u001b[0m\u001b[0;34m[\u001b[0m\u001b[0;34m'location'\u001b[0m\u001b[0;34m,\u001b[0m \u001b[0;34m'day'\u001b[0m\u001b[0;34m]\u001b[0m\u001b[0;34m,\u001b[0m \u001b[0minplace\u001b[0m\u001b[0;34m=\u001b[0m\u001b[0;32mTrue\u001b[0m\u001b[0;34m)\u001b[0m\u001b[0;34m\u001b[0m\u001b[0;34m\u001b[0m\u001b[0m\n\u001b[0m\u001b[1;32m      2\u001b[0m \u001b[0mstates\u001b[0m\u001b[0;34m\u001b[0m\u001b[0;34m\u001b[0m\u001b[0m\n",
      "\u001b[0;31mNameError\u001b[0m: name 'states' is not defined"
     ]
    }
   ],
   "source": [
    "states.set_index(['location', 'day'], inplace=True)\n",
    "states"
   ]
  },
  {
   "cell_type": "code",
   "execution_count": 16,
   "metadata": {},
   "outputs": [
    {
     "ename": "NameError",
     "evalue": "name 'states' is not defined",
     "output_type": "error",
     "traceback": [
      "\u001b[0;31m---------------------------------------------------------------------------\u001b[0m",
      "\u001b[0;31mNameError\u001b[0m                                 Traceback (most recent call last)",
      "\u001b[0;32m<ipython-input-16-6bd7dd3a6aac>\u001b[0m in \u001b[0;36m<module>\u001b[0;34m\u001b[0m\n\u001b[0;32m----> 1\u001b[0;31m \u001b[0mstates\u001b[0m\u001b[0;34m.\u001b[0m\u001b[0mmean\u001b[0m\u001b[0;34m(\u001b[0m\u001b[0mlevel\u001b[0m\u001b[0;34m=\u001b[0m\u001b[0;34m'location'\u001b[0m\u001b[0;34m)\u001b[0m\u001b[0;34m\u001b[0m\u001b[0;34m\u001b[0m\u001b[0m\n\u001b[0m",
      "\u001b[0;31mNameError\u001b[0m: name 'states' is not defined"
     ]
    }
   ],
   "source": [
    "states.mean(level='location')"
   ]
  },
  {
   "cell_type": "code",
   "execution_count": 17,
   "metadata": {
    "scrolled": true
   },
   "outputs": [
    {
     "ename": "NameError",
     "evalue": "name 'states' is not defined",
     "output_type": "error",
     "traceback": [
      "\u001b[0;31m---------------------------------------------------------------------------\u001b[0m",
      "\u001b[0;31mNameError\u001b[0m                                 Traceback (most recent call last)",
      "\u001b[0;32m<ipython-input-17-9ed01b1a8822>\u001b[0m in \u001b[0;36m<module>\u001b[0;34m\u001b[0m\n\u001b[0;32m----> 1\u001b[0;31m \u001b[0mstates\u001b[0m\u001b[0;34m.\u001b[0m\u001b[0mmedian\u001b[0m\u001b[0;34m(\u001b[0m\u001b[0mlevel\u001b[0m\u001b[0;34m=\u001b[0m\u001b[0;34m'day'\u001b[0m\u001b[0;34m)\u001b[0m\u001b[0;34m\u001b[0m\u001b[0;34m\u001b[0m\u001b[0m\n\u001b[0m",
      "\u001b[0;31mNameError\u001b[0m: name 'states' is not defined"
     ]
    }
   ],
   "source": [
    "states.median(level='day')"
   ]
  },
  {
   "cell_type": "code",
   "execution_count": 33,
   "metadata": {
    "tags": [
     "remove-input",
     "remove-output"
    ]
   },
   "outputs": [
    {
     "data": {
      "application/papermill.record/image/png": "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\n",
      "application/papermill.record/text/plain": "<Figure size 432x288 with 1 Axes>"
     },
     "metadata": {
      "scrapbook": {
       "mime_prefix": "application/papermill.record/",
       "name": "fig1"
      }
     },
     "output_type": "display_data"
    },
    {
     "data": {
      "application/papermill.record/image/png": "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\n",
      "application/papermill.record/text/plain": "<Figure size 432x288 with 1 Axes>"
     },
     "metadata": {
      "scrapbook": {
       "mime_prefix": "application/papermill.record/",
       "name": "fig2"
      }
     },
     "output_type": "display_data"
    },
    {
     "data": {
      "application/papermill.record/image/png": "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\n",
      "application/papermill.record/text/plain": "<Figure size 432x288 with 1 Axes>"
     },
     "metadata": {
      "scrapbook": {
       "mime_prefix": "application/papermill.record/",
       "name": "fig3"
      }
     },
     "output_type": "display_data"
    },
    {
     "data": {
      "image/png": "[encoded data removed]",
      "text/plain": [
       "<Figure size 432x288 with 1 Axes>"
      ]
     },
     "metadata": {
      "needs_background": "light"
     },
     "output_type": "display_data"
    },
    {
     "data": {
      "image/png": "[encoded data removed]",
      "text/plain": [
       "<Figure size 432x288 with 1 Axes>"
      ]
     },
     "metadata": {
      "needs_background": "light"
     },
     "output_type": "display_data"
    },
    {
     "data": {
      "image/png": "[encoded data removed]",
      "text/plain": [
       "<Figure size 432x288 with 1 Axes>"
      ]
     },
     "metadata": {
      "needs_background": "light"
     },
     "output_type": "display_data"
    }
   ],
   "source": [
    "import matplotlib.pyplot as plt\n",
    "from myst_nb import glue\n",
    "\n",
    "n_cycles = 10\n",
    "n_samples = 10000\n",
    "amplitude = 3\n",
    "phase = np.pi / 4\n",
    "end = 2 * np.pi * n_cycles\n",
    "x = np.linspace(0, end, num=n_samples)\n",
    "y = amplitude * np.sin(x + phase)\n",
    "\n",
    "chosen_idx = np.random.choice(n_samples, size=100, replace=False)\n",
    "data = pd.DataFrame(np.nan, index=x, columns=['raw'])\n",
    "data.iloc[chosen_idx, 0] = y[chosen_idx]\n",
    "\n",
    "# plotting\n",
    "fig1, ax1 = plt.subplots()\n",
    "ax1.set_title('Raw Data')\n",
    "data.raw.plot(marker='o', ax=ax1)\n",
    "data['lin_inter'] = data.raw.interpolate(method='index')\n",
    "fig2, ax2 = plt.subplots()\n",
    "ax2.set_title('Linear Interpolation')\n",
    "data.lin_inter.plot(marker='o', ax=ax2)\n",
    "data['quad_inter'] = data.raw.interpolate(method='quadratic')\n",
    "fig3, ax3 = plt.subplots()\n",
    "ax3.set_title('Quadratic Interpolation')\n",
    "data.quad_inter.plot(marker='o', ax=ax3)\n",
    "\n",
    "glue(\"fig1\", fig1, display=False)\n",
    "glue(\"fig2\", fig2, display=False)\n",
    "glue(\"fig3\", fig3, display=False)"
   ]
  },
  {
   "cell_type": "markdown",
   "metadata": {},
   "source": [
    "`````{admonition} Exercise: Missing Data\n",
    "1. Create a vector of 10000 measurements from a 10-cycle sinus wave. Remember that a single period of sine starts at 0 and ends at 2$\\pi$, so 10 periods span between 0 and 20$\\pi$.\n",
    "````{dropdown} Solution\n",
    "```python\n",
    "n_cycles = 10\n",
    "n_samples = 10000\n",
    "amplitude = 3\n",
    "phase = np.pi / 4\n",
    "end = 2 * np.pi * n_cycles\n",
    "x = np.linspace(0, end, num=n_samples)\n",
    "y = amplitude * np.sin(x + phase)\n",
    "```\n",
    "````\n",
    "2. Using `np.random.choice(replace=False)` sample 100 points from the wave and place them in a Series.\n",
    "````{dropdown} Solution\n",
    "```python\n",
    "chosen_idx = np.random.choice(n_samples, size=100, replace=False)\n",
    "data = pd.DataFrame(np.nan, index=x, columns=['raw'])\n",
    "data.iloc[chosen_idx, 0] = y[chosen_idx]\n",
    "```\n",
    "````\n",
    "3. Plot the chosen points.\n",
    "````{dropdown} Solution\n",
    "```python\n",
    "fig1, ax1 = plt.subplots()\n",
    "ax1.set_title('Raw data pre-interpolation')\n",
    "data.raw.plot(marker='o', ax=ax1)\n",
    "```\n",
    "```{glue:figure} fig1\n",
    "    :figwidth: 500px\n",
    "```\n",
    "````\n",
    "4. Interpolate the points using linear interpolation and plot them on a different graph.\n",
    "````{dropdown} Solution\n",
    "```python\n",
    "data['lin_inter'] = data.raw.interpolate(method='index')\n",
    "fig2, ax2 = plt.subplots()\n",
    "ax2.set_title('Linear interpolation')\n",
    "data.lin_inter.plot(marker='o', ax=ax2)\n",
    "```\n",
    "```{glue:figure} fig2\n",
    "    :figwidth: 500px\n",
    "```\n",
    "````\n",
    "5. Interpolate the points using quadratic interpolation and plot them on a different graph. \n",
    "````{dropdown} Solution\n",
    "```python\n",
    "data['quad_inter'] = data.raw.interpolate(method='quadratic')\n",
    "fig3, ax3 = plt.subplots()\n",
    "ax3.set_title('Quadratic interpolation')\n",
    "data.quad_inter.plot(marker='o', ax=ax3)\n",
    "```\n",
    "```{glue:figure} fig3\n",
    "    :figwidth: 500px\n",
    "```\n",
    "````\n",
    "`````"
   ]
  },
  {
   "cell_type": "markdown",
   "metadata": {},
   "source": [
    "`````{admonition} Exercise: Replacing Values\n",
    "````{hint}\n",
    "When we wish to replace values in a Series or a DataFrame, two main options come to mind:\n",
    "\n",
    "1. A boolean mask (e.g. `df[mask] = \"new value\"`).\n",
    "2. The [`replace()`](https://pandas.pydata.org/docs/reference/api/pandas.DataFrame.replace.html) method.\n",
    "\n",
    "In the following exercise try and explore the second method, which provides powerful custom replacement options.\n",
    "\n",
    "````\n",
    "* Create a (10, 2) dataframe with increasing integer values 0-9 in both columns.\n",
    "````{dropdown} Solution\n",
    "```python\n",
    "data = np.tile(np.arange(10), (2, 1)).T\n",
    "df = pd.DataFrame(data)\n",
    "```\n",
    "````\n",
    "* Use the `.replace()` method to replace the value 3 in the first column with 99.\n",
    "````{dropdown} Solution\n",
    "```python\n",
    "df.replace({0: 3}, {0: 99})\n",
    "```\n",
    "````\n",
    "* Use it to replace 3 in column 0, and 1 in column 2, with 99.\n",
    "````{dropdown} Solution\n",
    "```python\n",
    "df.replace({0: 3, 1: 1}, 99)\n",
    "```\n",
    "````\n",
    "* Use its `method` keyword to replace values in the range [3, 6) of the first column with 6.\n",
    "````{dropdown} Solution\n",
    "```python\n",
    "df[0].replace(np.arange(3, 6), method='bfill')\n",
    "```\n",
    "````\n",
    "`````"
   ]
  },
  {
   "cell_type": "markdown",
   "metadata": {},
   "source": [
    "`````{admonition} `MultiIndex` Construction and Indexing\n",
    "* Construct a `MultiIndex` with three levels composed from the product of the following lists:\n",
    "    - `['a', b', 'c', 'd']`\n",
    "    - `['i', 'ii', 'iii']`\n",
    "    - `['x', 'y', 'z']`\n",
    "````{dropdown} Solution\n",
    "```python\n",
    "letters = ['a', 'b', 'c', 'd']\n",
    "roman = ['i', 'ii', 'iii']\n",
    "coordinates = ['x', 'y', 'z']\n",
    "index = pd.MultiIndex.from_product((letters, roman, coordinates))\n",
    "```\n",
    "````\n",
    "* Instantiate a dataframe with the created index and populate it with random values in two columns.\n",
    "````{dropdown} Solution\n",
    "```python\n",
    "size = len(letters) * len(roman) * len(coordinates)\n",
    "data = np.random.randint(20, size=(size, 2))\n",
    "df = pd.DataFrame(data, columns=['today', 'tomorrow'], index=index)\n",
    "```\n",
    "````\n",
    "* Use two different methods to extract only the values with an index of `('a', 'ii', 'z')`.\n",
    "````{dropdown} Solution\n",
    "Option \\#1:\n",
    "```python\n",
    "df.loc['a', 'ii', 'z']\n",
    "```\n",
    "Option \\#2:\n",
    "```python\n",
    "df.xs(key=('a', 'ii', 'z'))\n",
    "```\n",
    "Option \\#3:\n",
    "```python\n",
    "idx = pd.IndexSlice\n",
    "df.loc[idx['a', 'ii', 'z'], :]\n",
    "```\n",
    "````\n",
    "* Slice in two ways the values with an index of `'x'`.\n",
    "````{dropdown} Solution\n",
    "Option \\#1:\n",
    "```python\n",
    "idx = pd.IndexSlice\n",
    "df.loc[idx[:, :, 'x'], :]\n",
    "```\n",
    "Option \\#2:\n",
    "```python\n",
    "df.xs(key='x', level=2)\n",
    "```\n",
    "Option \\#3:\n",
    "```python\n",
    "df.loc[(slice(None), slice(None), 'x'), :]\n",
    "```\n",
    "````\n",
    "`````"
   ]
  },
  {
   "cell_type": "markdown",
   "metadata": {},
   "source": [
    "## _n_-Dimensional Containers"
   ]
  },
  {
   "cell_type": "markdown",
   "metadata": {},
   "source": [
    "While technically a dataframe is a two-dimensional container, in the next lesson we'll see why it can perform quite efficiently as a pseudo n-dimensional container. \n",
    "\n",
    "If you wish to have _true_ n-dimensional DataFrame-like data structures, you should use the `xarray` package and its `xr.DataArray` and `xr.Dataset` objects, which we'll discuss in the next lessons."
   ]
  }
 ],
 "metadata": {
  "anaconda-cloud": {},
  "celltoolbar": "Tags",
  "kernelspec": {
   "display_name": "MLforNeuro",
   "language": "python",
   "name": "mlforneuro"
  },
  "language_info": {
   "codemirror_mode": {
    "name": "ipython",
    "version": 3
   },
   "file_extension": ".py",
   "mimetype": "text/x-python",
   "name": "python",
   "nbconvert_exporter": "python",
   "pygments_lexer": "ipython3",
   "version": "3.8.5"
  }
 },
 "nbformat": 4,
 "nbformat_minor": 2
}
